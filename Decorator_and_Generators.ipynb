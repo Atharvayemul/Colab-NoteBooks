{
  "nbformat": 4,
  "nbformat_minor": 0,
  "metadata": {
    "colab": {
      "provenance": [],
      "authorship_tag": "ABX9TyMOrKTjWaSw1dQwVDzb/X6H",
      "include_colab_link": true
    },
    "kernelspec": {
      "name": "python3",
      "display_name": "Python 3"
    },
    "language_info": {
      "name": "python"
    }
  },
  "cells": [
    {
      "cell_type": "markdown",
      "metadata": {
        "id": "view-in-github",
        "colab_type": "text"
      },
      "source": [
        "<a href=\"https://colab.research.google.com/github/Atharvayemul/Colab-NoteBooks/blob/main/Decorator_and_Generators.ipynb\" target=\"_parent\"><img src=\"https://colab.research.google.com/assets/colab-badge.svg\" alt=\"Open In Colab\"/></a>"
      ]
    },
    {
      "cell_type": "markdown",
      "source": [
        "### Decorators\n",
        "\n",
        "It is a function that takes another function as an argument modifies or extends its behaviour and returns a new function that typically wraps the orginal one\n",
        "\n",
        "\n",
        "Commonly Used to add functionality to an existing function without modifying the original code\n",
        "\n",
        "#### Uses\n",
        "- Code Reusability\n",
        "- Separation of Concerns\n",
        "- Functionality Extension\n",
        "\n",
        "\n",
        "A decorator is a higher order function because it accepts a function as argument and returns a new function that enhances or modifies the behaviour of the original one\n",
        "\n"
      ],
      "metadata": {
        "id": "YoJHV0g_sk2U"
      }
    },
    {
      "cell_type": "code",
      "execution_count": 12,
      "metadata": {
        "colab": {
          "base_uri": "https://localhost:8080/"
        },
        "collapsed": true,
        "id": "46bp0pTIrfmL",
        "outputId": "8f6e20f0-99f7-49d2-9313-7aef303a34ab"
      },
      "outputs": [
        {
          "output_type": "stream",
          "name": "stdout",
          "text": [
            "Before Function call\n",
            "Hello\n",
            "After Function call\n"
          ]
        }
      ],
      "source": [
        "def my_decorator(func):\n",
        "  def wrapper():\n",
        "    print('Before Function call')\n",
        "    func()\n",
        "    print('After Function call')\n",
        "  return wrapper\n",
        "\n",
        "def hello():\n",
        "  print('Hello')\n",
        "\n",
        "hello = my_decorator(hello)\n",
        "\n",
        "hello()"
      ]
    },
    {
      "cell_type": "markdown",
      "source": [
        "When you apply a decorator to a function using @decorator_name, the following things happen internally:\n",
        "\n",
        "- The decorator function is called, passing the original function to it.\n",
        "\n",
        "- The decorator returns a new function (the wrapper function).\n",
        "\n",
        "- The original function is replaced with the returned wrapper function.\n",
        "\n",
        "- When you call the decorated function, you are actually calling the wrapper, which can modify the behavior of the original function before and after executing it."
      ],
      "metadata": {
        "id": "avOELcicw7-w"
      }
    },
    {
      "cell_type": "markdown",
      "source": [
        "Use Cases of Decorator\n",
        "- Logging - Automatically log function calls inputs and outputs\n",
        "\n",
        "- Access Control - Ensure the user has the right permissions before executing a function\n",
        "\n",
        "- Timing - Measure how long a function takes to execute\n",
        "\n",
        "- Validation - Ensure inputs to a function are valid before execution\n"
      ],
      "metadata": {
        "id": "Le0lR9StxMrW"
      }
    }
  ]
}