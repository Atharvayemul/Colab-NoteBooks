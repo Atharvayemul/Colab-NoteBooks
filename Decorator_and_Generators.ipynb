{
  "nbformat": 4,
  "nbformat_minor": 0,
  "metadata": {
    "colab": {
      "provenance": [],
      "authorship_tag": "ABX9TyM1mydBGOq00EWBSzQr2dIU",
      "include_colab_link": true
    },
    "kernelspec": {
      "name": "python3",
      "display_name": "Python 3"
    },
    "language_info": {
      "name": "python"
    }
  },
  "cells": [
    {
      "cell_type": "markdown",
      "metadata": {
        "id": "view-in-github",
        "colab_type": "text"
      },
      "source": [
        "<a href=\"https://colab.research.google.com/github/Atharvayemul/Colab-NoteBooks/blob/main/Decorator_and_Generators.ipynb\" target=\"_parent\"><img src=\"https://colab.research.google.com/assets/colab-badge.svg\" alt=\"Open In Colab\"/></a>"
      ]
    },
    {
      "cell_type": "markdown",
      "source": [
        "### Decorators\n",
        "\n",
        "It is a function that takes another function as an argument modifies or extends its behaviour and returns a new function that typically wraps the orginal one\n",
        "\n",
        "\n",
        "Commonly Used to add functionality to an existing function without modifying the original code\n",
        "\n",
        "#### Uses\n",
        "- Code Reusability\n",
        "- Separation of Concerns\n",
        "- Functionality Extension\n",
        "\n",
        "\n",
        "A decorator is a higher order function because it accepts a function as argument and returns a new function that enhances or modifies the behaviour of the original one\n",
        "\n"
      ],
      "metadata": {
        "id": "YoJHV0g_sk2U"
      }
    },
    {
      "cell_type": "code",
      "execution_count": 12,
      "metadata": {
        "colab": {
          "base_uri": "https://localhost:8080/"
        },
        "collapsed": true,
        "id": "46bp0pTIrfmL",
        "outputId": "8f6e20f0-99f7-49d2-9313-7aef303a34ab"
      },
      "outputs": [
        {
          "output_type": "stream",
          "name": "stdout",
          "text": [
            "Before Function call\n",
            "Hello\n",
            "After Function call\n"
          ]
        }
      ],
      "source": [
        "def my_decorator(func):\n",
        "  def wrapper():\n",
        "    print('Before Function call')\n",
        "    func()\n",
        "    print('After Function call')\n",
        "  return wrapper\n",
        "\n",
        "def hello():\n",
        "  print('Hello')\n",
        "\n",
        "hello = my_decorator(hello)\n",
        "\n",
        "hello()"
      ]
    },
    {
      "cell_type": "markdown",
      "source": [
        "When you apply a decorator to a function using @decorator_name, the following things happen internally:\n",
        "\n",
        "- The decorator function is called, passing the original function to it.\n",
        "\n",
        "- The decorator returns a new function (the wrapper function).\n",
        "\n",
        "- The original function is replaced with the returned wrapper function.\n",
        "\n",
        "- When you call the decorated function, you are actually calling the wrapper, which can modify the behavior of the original function before and after executing it."
      ],
      "metadata": {
        "id": "avOELcicw7-w"
      }
    },
    {
      "cell_type": "markdown",
      "source": [
        "Use Cases of Decorator\n",
        "- Logging - Automatically log function calls inputs and outputs\n",
        "\n",
        "- Access Control - Ensure the user has the right permissions before executing a function\n",
        "\n",
        "- Timing - Measure how long a function takes to execute\n",
        "\n",
        "- Validation - Ensure inputs to a function are valid before execution\n"
      ],
      "metadata": {
        "id": "Le0lR9StxMrW"
      }
    },
    {
      "cell_type": "markdown",
      "source": [
        "### Generators\n"
      ],
      "metadata": {
        "id": "a97rqaNpzl2h"
      }
    },
    {
      "cell_type": "markdown",
      "source": [
        "Definition\n",
        "- A generator is a special type of function in Python that yields values one at a time, instead of returning a list or other data structure with all the values at once.\n",
        "\n",
        "- When a generator function is called, it doesn’t execute immediately; instead, it returns a generator object that can be iterated over.\n",
        "\n",
        "- Generators use the yield keyword to yield control and produce a value. After yielding, the state of the generator is paused, and the function can resume where it left off when next() is called again.\n"
      ],
      "metadata": {
        "id": "4nznmxuvzr8_"
      }
    },
    {
      "cell_type": "code",
      "source": [
        "def myfun():\n",
        "  yield 1\n",
        "  yield 2\n",
        "print(type(myfun()))\n",
        "obj = myfun()\n",
        "print(next(obj))"
      ],
      "metadata": {
        "colab": {
          "base_uri": "https://localhost:8080/"
        },
        "id": "jgqkhVnuznfy",
        "outputId": "133ac85a-56da-4960-ae23-ea9a7d48968c"
      },
      "execution_count": 19,
      "outputs": [
        {
          "output_type": "stream",
          "name": "stdout",
          "text": [
            "<class 'generator'>\n",
            "1\n"
          ]
        }
      ]
    },
    {
      "cell_type": "markdown",
      "source": [
        "Working of Generators\n",
        "\n",
        "- A Generator maintains state between each call\n",
        "\n",
        "- It remembers where it last yielded a value and can continue from that point\n",
        "\n",
        "- Unlike Regular functions that start fresh each time\n",
        "\n",
        "**Each time next() is called it runs the generator function from that point where it left off until it reaches another yield or the end of function**"
      ],
      "metadata": {
        "id": "Vp4N8wks11d3"
      }
    },
    {
      "cell_type": "markdown",
      "source": [
        "##### Memory Efficiency of Generators\n",
        "- Generators are memory efficient because they do not store all items in memory.\n",
        "- Instead, they generate each item on the fly when requested.\n",
        "\n",
        "- This is particularly helpful when working with large datasets or infinite sequences.\n",
        "- For example, generating the first 1 million numbers would take up too much memory if stored in a list,\n",
        "- but a generator can handle it efficiently."
      ],
      "metadata": {
        "id": "6c5DvmAM2mVQ"
      }
    },
    {
      "cell_type": "code",
      "source": [
        "def count_up_to(limit):\n",
        "  count = 1\n",
        "  while count <= limit:\n",
        "    yield count  # Yield the current value of count\n",
        "    count += 1\n",
        "\n",
        "# Create a Generator object\n",
        "counter = count_up_to(3)\n",
        "\n",
        "#Using the Generator\n",
        "print(next(counter))  # Outputs: 1\n",
        "print(next(counter))  # Outputs: 2\n",
        "print(next(counter))  # Outputs: 3\n",
        "# print(next(counter))  # Raises StopIteration"
      ],
      "metadata": {
        "colab": {
          "base_uri": "https://localhost:8080/"
        },
        "id": "BwMjg2yv1coZ",
        "outputId": "7b6daa53-05c7-4f7b-ca94-3dbd85029118"
      },
      "execution_count": 21,
      "outputs": [
        {
          "output_type": "stream",
          "name": "stdout",
          "text": [
            "1\n",
            "2\n",
            "3\n"
          ]
        }
      ]
    },
    {
      "cell_type": "code",
      "source": [],
      "metadata": {
        "id": "HW0rO13v3JWu"
      },
      "execution_count": null,
      "outputs": []
    }
  ]
}